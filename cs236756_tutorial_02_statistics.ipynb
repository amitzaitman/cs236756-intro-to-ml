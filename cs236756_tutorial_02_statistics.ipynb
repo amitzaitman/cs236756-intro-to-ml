{
 "cells": [
  {
   "cell_type": "markdown",
   "metadata": {},
   "source": [
    "# <img src=\"https://img.icons8.com/dusk/64/000000/mind-map.png\" style=\"height:50px;display:inline\"> CS 236756 - Technion - Intro to Machine Learning\n",
    "#### Tal Daniel\n",
    "## Tutorial 02 - Introduction to Statistics\n",
    "\n",
    "### <img src=\"https://img.icons8.com/bubbles/50/000000/checklist.png\" style=\"height:50px;display:inline\"> Agenda\n",
    "\n",
    "* Statistics Definitions\n",
    "* Null and Alternative Hypotheses\n",
    "* Central Limit Theorem (CLT)\n",
    "* P-Value, Significance Level and Power\n",
    "* Confusion Matrix\n",
    "* Useful Inequalities"
   ]
  },
  {
   "cell_type": "markdown",
   "metadata": {},
   "source": [
    "<img src=\"https://www.azquotes.com/vangogh-image-quotes/7/92/Quotation-Benjamin-Disraeli-There-are-three-kinds-of-lies-lies-damned-lies-and-7-92-39.jpg\" style=\"height:400px\">\n",
    "(image from <a href=\"https://www.azquotes.com/quote/79239\">azquotes.com</a>)"
   ]
  },
  {
   "cell_type": "code",
   "execution_count": 1,
   "metadata": {},
   "outputs": [],
   "source": [
    "# imports for the tutorial\n",
    "import numpy as np\n",
    "import pandas as pd\n",
    "import matplotlib.pyplot as plt\n",
    "%matplotlib notebook"
   ]
  },
  {
   "attachments": {},
   "cell_type": "markdown",
   "metadata": {},
   "source": [
    "## <img src=\"https://img.icons8.com/dusk/64/000000/define-location.png\" style=\"height:50px;display:inline\"> Definitions\n",
    "\n",
    "| <center>Definition</center> | <center>Description</center> | <center>Types</center> | <center>Example</center>  |\n",
    "| --- | --- | --- | --- |\n",
    "| **Population** | <center> All possible values, the entire pool from which a statistical sample is drawn. A population can thus be said to be an aggregate observation of subjects grouped together by a common feature. </center>|  | <center> An entire group of people, objects, events, hospital visits, or measurements </center>|\n",
    "| **Sample** |<center> A portion of the population, a random selection of members of a population. It is a smaller group drawn from the population that has the characteristics of the entire population. The observations and conclusions made against the sample data are attributed to the population. </center>| |<center> 1,000 participants from the total 200,000 test sitters </center>|\n",
    "| **Statistical Inference** |<center> Generalizing from a sample to a population with calculated degree of certainty </center>| <center>1. Hypothesis Testing (today) <br> 2. Estimation (previous tutorial) </center>|  |\n",
    "| **Parameter** |<center> A characteristic of population, any numerical quantity that characterizes a given population or some aspect of it. This means the parameter tells us something about the whole population. </center>| | <center>Population mean $\\mu$</center> |\n",
    "| **Statistic** |<center> Calculated from data in the sample, a single measure of some attribute of a sample. It is calculated by applying a function (statistical algorithm) to the values of the items of the sample, which are known together as a set of data. </center>| | <center>Sample mean $\\overline{X}$</center> |\n",
    "\n",
    "### <img src=\"https://img.icons8.com/dusk/64/000000/note.png\" style=\"height:40px;display:inline\"> Notes\n",
    "*  The sample must be **random**. A random sample is one in which every member of a population has an equal chance of being selected.\n",
    "* **Variables are Not Parameters** - Variables, like the name suggests, are quantities that can be changed by the experimenter. For example, the number of cases to study for a given problem is a variable. Thus a researcher might choose a population of 100 people or 150 people, depending on various statistical requirements. This would count as a variable. A parameter, on the other hand, will be independent of the variable and the number of cases that are taken to study. In fact, the parameters will fix the distribution irrespective of the total number of cases under study.\n",
    "* Notice the difference in notations, while the mean for the population denoted $\\mu$, the statistic of the mean for a sample is denoted $\\overline{X}$.\n",
    "\n",
    "The relationship between population and sample:\n",
    "<img src=\"https://www.cliffsnotes.com/assets/267169.png\">\n",
    "(image from <a href=\"https://www.cliffsnotes.com/study-guides/statistics/sampling/populations-samples-parameters-and-statistics\">cliffnotes.com</a>\n",
    "\n",
    "\n",
    "### <img src=\"https://img.icons8.com/dusk/64/000000/compare.png\" style=\"height:40px;display:inline\"> The Difference Between Parameters & Statistics\n",
    "* **Parameters and statistics are related, but are not the same thing.**\n",
    "\n",
    "|  | Parameters | Statistics |\n",
    "| -| ---------- | ---------- |\n",
    "| **Source** | <center> Population </center>| <center> Sample </center>|\n",
    "| **Random** |<center> No </center>|<center> Yes</center>|\n",
    "| **Calculated** |<center> No</center>| <center> Yes </center>|\n",
    "\n",
    "### <img src=\"https://img.icons8.com/dusk/64/000000/classroom.png\" style=\"height:50px;display:inline\"> Example - Parameters & Statistics\n",
    "Let's say we have a population of 10,000 people. Let's compare the mean height of a sample and the mean height of the population."
   ]
  },
  {
   "cell_type": "code",
   "execution_count": 4,
   "metadata": {},
   "outputs": [
    {
     "name": "stdout",
     "output_type": "stream",
     "text": [
      "size of the population: 10000\n",
      "the mean height parameter of the population: 168.574 cm\n",
      "the mean height statistic of sample 1: 168.597 cm\n",
      "the mean height statistic of sample 2: 168.666 cm\n",
      "the mean height statistic of sample 3: 168.683 cm\n"
     ]
    }
   ],
   "source": [
    "# let's load the heights dataset from previous tutorial\n",
    "# load the data\n",
    "dataset = pd.read_csv('./datasets/heights_dataset.csv')\n",
    "# use only the heights\n",
    "dataset = dataset.drop('Weight', axis=1)\n",
    "# inch -> cm\n",
    "dataset['Height'] = dataset['Height'] * 2.54\n",
    "# print the number of rows in the data set\n",
    "number_of_rows = len(dataset)\n",
    "print('size of the population: {}'.format(number_of_rows))\n",
    "print(\"the mean height parameter of the population: {:.3f} cm\".format(dataset.Height.mean()))\n",
    "# let's draw 1000 samples\n",
    "print(\"the mean height statistic of sample 1: {:.3f} cm\".format(dataset.Height.sample(1000).mean()))\n",
    "print(\"the mean height statistic of sample 2: {:.3f} cm\".format(dataset.Height.sample(1000).mean()))\n",
    "print(\"the mean height statistic of sample 3: {:.3f} cm\".format(dataset.Height.sample(1000).mean()))"
   ]
  },
  {
   "attachments": {},
   "cell_type": "markdown",
   "metadata": {},
   "source": [
    "## <img src=\"https://img.icons8.com/dusk/64/000000/workflow.png\" style=\"height:50px;display:inline\"> Hypothesis Testing Steps\n",
    "\n",
    "1. **Null & Alternative Hypotheses** -  Formulate the null hypothesis $H_0$ (that the observations are the result of pure chance) and the alternative hypothesis $H_a$ (that the observations show a real effect combined with a component of chance variation).\n",
    "\n",
    "2. **Test Statistic** - Identify a test statistic that can be used to assess the truth of the null hypothesis. It is a value computed from sample data. The test statistic is used to assess the strength of evidence in support of a null hypothesis.\n",
    "\n",
    "3. **P-value & Interpretation** - Compute the P-value, which is the probability that a test statistic, at least as significant as the one observed, would be obtained assuming that the null hypothesis were true. The smaller the P-value, the stronger the evidence **against** the null hypothesis.\n",
    "\n",
    "4. **Significance Level** - Compare the p-value to an acceptable significance value $\\alpha$ (sometimes called an $\\alpha$ value, a probability threshold below which the null hypothesis will be rejected. Common values are 5% and 1%.). If $p \\leq \\alpha$ (the observed effect is statistically significant), the null hypothesis is ruled out, and the alternative hypothesis is valid.\n",
    "\n",
    "### <img src=\"https://img.icons8.com/ios/100/000000/battle.png\" style=\"height:30px;display:inline\"> The Two Competing Theories\n",
    "* **NULL** Hypothesis - $H_0$ - any observed deviation from what we expect to see is dur to chance variability.\n",
    "* **ALTERNATIVE** Hypothesis - $H_a$ - 'claim', or a theory you wish to test (the reason for the observed statistic).\n",
    "\n",
    "$H_0$ is assumed **true** until enough evidence goes against it (we then refute it and believe the alternative $H_a$).\n",
    "\n",
    "### <img src=\"https://img.icons8.com/dusk/64/000000/classroom.png\" style=\"height:50px;display:inline\"> Example - Body Weight\n",
    "The following example will be used to demonstrate the statistic process:\n",
    "\n",
    "In the 1970s, 20–29 year old men in the U.S. had a mean $\\mu$ body weight of 170 pounds. Standard deviation $\\sigma$ was 40 pounds. We test whether mean body weight in the population is bigger now.\n",
    "\n",
    "#### 1- Null & Alternative Hypotheses \n",
    "\n",
    "* Under the **null hypothesis** there is no difference in the mean body weight between then and now, in which case $\\mu$ would still equal 170 pounds: $$H_0: \\mu=170$$\n",
    "* Under the **alternative hypothesis**, the mean weight has increased: $$H_a: \\mu > 170$$\n",
    "    * This statement of the alternative hypothesis is one-sided. That is, it looks only for values larger than stated under the null hypothesis.\n",
    "    * There is another way to state the alternative hypothesis. We could state it in a **“two-sided”** manner, looking for values that are either higher- or lower-than expected. For the current illustrative example, the two-sided alternative is $H_a: \\mu \\neq 170$. Although for the current illustrative example, this seems unnecessary, two-sided alternative offers several advantages and are much more common in practice.\n",
    "    \n",
    "#### 2- Test Statistic (TS)\n",
    "\n",
    "* It is a measure of how far the observed data is from what is expected under the null hypothesis $H_0$\n",
    "    * Compute the value of a test statistic (TS) from the data\n",
    "* The particular TS computed depends on the tested parameter\n",
    "    * For example, to test the population mean, the TS is the sample mean (or standardized sample mean)\n",
    "* The null hypothesis $H_0$ is rejected if the TS falls in a user-specified rejection region.\n",
    "* Different hypothesis tests use different test statistics based on the probability model assumed in the null hypothesis. Common tests and their test statistics include:\n",
    "\n",
    "| Hypothesis Test | Test Statistic |\n",
    "| ---------- | ---------- |\n",
    "|<center> Z-test </center>| <center> Z-statistic </center>|\n",
    "|<center> t-tests </center>|<center> t-statistic</center>|\n",
    "|<center> ANOVA</center>| <center> F-statistic </center>|\n",
    "|<center> Chi-square tests</center>| <center> Chi-square statistic </center>|\n",
    "\n",
    "#### <img src=\"https://img.icons8.com/dusk/64/000000/classroom.png\" style=\"height:20px;display:inline\"> Example - TS - Z-statistic\n",
    "The Z-statistic has the standard normal distribution under the null hypothesis. It is a **mean** test when $\\sigma$ is known. We will use this statistic to test the problem: $$z_{stat} = \\frac{\\overline{x} - \\mu_0}{\\sigma_{\\overline{x}}} $$ \n",
    "\n",
    "Assumptions:\n",
    "* $\\mu_0$ is the **population mean** assuming $H_0$ is **true**\n",
    "* $\\sigma_{\\overline{x}} = \\frac{\\sigma}{\\sqrt{n}}$\n",
    "\n",
    "Solve for the \"Body Weight\" problem:\n",
    "* $\\mu_0 =170$\n",
    "* $\\sigma = 40$\n",
    "* We'll take sample size of $n=64 $ samples, $\\rightarrow \\sqrt{n} = 8$\n",
    "* $\\sigma_{\\overline{x}} = \\frac{40}{8} = 5 $\n",
    "\n",
    "Now, let's assume we found a sample mean of **173**, then:\n",
    "* $z_{stat} = \\frac{\\overline{x} - \\mu_0}{\\sigma_{\\overline{x}}} = \\frac{173 - 170}{5} = 0.6$\n",
    "\n",
    "Now, let's assume we found a sample mean of **185**, then:\n",
    "* $z_{stat} = \\frac{\\overline{x} - \\mu_0}{\\sigma_{\\overline{x}}} = \\frac{185 - 170}{5} = 3$\n",
    "\n",
    "### <img src=\"https://img.icons8.com/dusk/64/000000/alarm.png\" style=\"height:30px;display:inline\"> Reminder: The Central Limit Theorem (CLT)\n",
    "The CLT states that given a sufficiently large sample size from a population with a finite level of variance, the mean of all samples from the same population will be approximately equal to the mean of the population. When n is large, the distribution of the **sample means** will approach a normal distribution. More formally:\n",
    "\n",
    "If $X_1, X_2, ..., X_n$ is a random sample of size $n$ taken from a population with mean $\\mu$ and variance $\\sigma^2$, and if $\\overline{X}$ is the sample mean, the limiting form of the distribution: $$ Z = \\frac{\\overline{X} - \\mu}{\\frac{\\sigma}{\\sqrt{n}}} $$ as $n \\rightarrow \\infty $, is the **standard normal distribution**\n",
    "\n",
    "<a href=\"http://onlinestatbook.com/stat_sim/sampling_dist/\">CLT DEMO</a>\n",
    "\n",
    "#### Reasoning Behind $z_{stat}$\n",
    "Sampling distribution of $\\overline{x}$ under $H_0$: $$ \\overline{x} \\sim N(170, 5) $$\n",
    "<img src=\"./assets/tut_02_z_stat.jpg\">\n",
    "\n"
   ]
  },
  {
   "cell_type": "markdown",
   "metadata": {},
   "source": [
    "## <img src=\"https://img.icons8.com/dusk/64/000000/prize.png\" style=\"height:50px;display:inline\"> Credits\n",
    "* Icons from <a href=\"https://icons8.com/\">Icon8.com</a> - https://icons8.com\n",
    "* Dtasets from <a href=\"https://www.kaggle.com/\">Kaggle</a> - https://www.kaggle.com/"
   ]
  }
 ],
 "metadata": {
  "kernelspec": {
   "display_name": "Python 3",
   "language": "python",
   "name": "python3"
  },
  "language_info": {
   "codemirror_mode": {
    "name": "ipython",
    "version": 3
   },
   "file_extension": ".py",
   "mimetype": "text/x-python",
   "name": "python",
   "nbconvert_exporter": "python",
   "pygments_lexer": "ipython3",
   "version": "3.5.5"
  }
 },
 "nbformat": 4,
 "nbformat_minor": 2
}
